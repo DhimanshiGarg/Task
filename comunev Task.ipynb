{
 "cells": [
  {
   "cell_type": "markdown",
   "metadata": {},
   "source": [
    "### Name- Dhimanshi Garg\n",
    "Task:\n",
    "\n",
    "Create an algorithm using a function of your choice for sorting data on the basis of its popularity. The popularity can be noticed on the basis of people reacting on items in the list.\n",
    "\n"
   ]
  },
  {
   "cell_type": "code",
   "execution_count": 14,
   "metadata": {},
   "outputs": [],
   "source": [
    "from collections import defaultdict\n"
   ]
  },
  {
   "cell_type": "code",
   "execution_count": 17,
   "metadata": {},
   "outputs": [],
   "source": [
    " # Sort by Popularity\n",
    " \n",
    " def sortBypopularity(arr, n):\n",
    "    # arr -> Array to be sorted\n",
    "    # n   -> Length of Array\n",
    " \n",
    "    # d is a hashmap(referred as dictionary in python)\n",
    "    d = defaultdict(lambda: 0)\n",
    "    for i in range(n):\n",
    "        d[arr[i]] += 1\n",
    " \n",
    "    # Sorting the array 'arr' where key\n",
    "    # is the function based on which\n",
    "    # the array is sorted\n",
    "    # While sorting we want to give\n",
    "    # first priority to Frequency\n",
    "    # Then to value of item\n",
    "    arr.sort(key=lambda x: (-d[x], x))\n",
    " \n",
    "    return (arr)\n",
    " \n",
    " \n"
   ]
  },
  {
   "cell_type": "code",
   "execution_count": 18,
   "metadata": {},
   "outputs": [
    {
     "name": "stdout",
     "output_type": "stream",
     "text": [
      "8 8 8 2 2 5 5 -1 6 9999999\n"
     ]
    }
   ],
   "source": [
    "# Driver Function\n",
    "if __name__ == \"__main__\":\n",
    "    arr = [2, 5, 2, 6, -1, 9999999, 5, 8, 8, 8]\n",
    "    n = len(arr)\n",
    "    solution = sortBypopularity(arr, n)\n",
    "    print(*solution)"
   ]
  },
  {
   "cell_type": "code",
   "execution_count": null,
   "metadata": {},
   "outputs": [],
   "source": []
  }
 ],
 "metadata": {
  "kernelspec": {
   "display_name": "Python 3",
   "language": "python",
   "name": "python3"
  },
  "language_info": {
   "codemirror_mode": {
    "name": "ipython",
    "version": 3
   },
   "file_extension": ".py",
   "mimetype": "text/x-python",
   "name": "python",
   "nbconvert_exporter": "python",
   "pygments_lexer": "ipython3",
   "version": "3.8.5"
  }
 },
 "nbformat": 4,
 "nbformat_minor": 4
}
